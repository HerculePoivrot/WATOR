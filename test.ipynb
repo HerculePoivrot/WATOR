{
 "cells": [
  {
   "cell_type": "code",
   "execution_count": 28,
   "metadata": {},
   "outputs": [
    {
     "data": {
      "text/plain": [
       "1"
      ]
     },
     "execution_count": 28,
     "metadata": {},
     "output_type": "execute_result"
    }
   ],
   "source": [
    "import random \n",
    "\n",
    "ligne = random.randint(0,1)\n",
    "\n",
    "colonne = random.randint(1,2)\n"
   ]
  },
  {
   "cell_type": "code",
   "execution_count": 99,
   "metadata": {},
   "outputs": [
    {
     "name": "stdout",
     "output_type": "stream",
     "text": [
      "10001\n",
      "00001\n",
      "11111\n",
      "10001\n",
      "00010\n"
     ]
    }
   ],
   "source": [
    "def grille():\n",
    "    for i in range(0,5):\n",
    "        for j in range(0,5):\n",
    "            a = random.randint(0,1)\n",
    "            print(f\"{a}\", end = \"\")\n",
    "        print()\n",
    "\n",
    "grille()"
   ]
  },
  {
   "cell_type": "code",
   "execution_count": null,
   "metadata": {},
   "outputs": [],
   "source": [
    "import random\n",
    "class Shark:\n",
    "    def __init__(self, energy, position ) -> None:\n",
    "        self.energy = 10\n",
    "        self.position = position\n",
    "\n",
    "\n",
    "east_position = (self.position[0]+1, self.position[1])\n",
    "west_position = (self.position[0]-1, self.position[1])\n",
    "north_position = (self.position[0], self.position[1]+1)\n",
    "south_position = (self.position[0], self.position[1]-1)\n",
    "\n",
    "position_voisine = [east_position, west_position, north_position, south_position]\n",
    "\n",
    "\n",
    "for i in position_voisine :\n",
    "        \n",
    "        controle_case = grille[i[0]][i[1]] \n",
    "        if i == \"0\" :\n",
    "            self.energy -= 1\n",
    "            self.position = i\n",
    "            break"
   ]
  }
 ],
 "metadata": {
  "kernelspec": {
   "display_name": ".venv",
   "language": "python",
   "name": "python3"
  },
  "language_info": {
   "codemirror_mode": {
    "name": "ipython",
    "version": 3
   },
   "file_extension": ".py",
   "mimetype": "text/x-python",
   "name": "python",
   "nbconvert_exporter": "python",
   "pygments_lexer": "ipython3",
   "version": "3.12.3"
  }
 },
 "nbformat": 4,
 "nbformat_minor": 2
}
